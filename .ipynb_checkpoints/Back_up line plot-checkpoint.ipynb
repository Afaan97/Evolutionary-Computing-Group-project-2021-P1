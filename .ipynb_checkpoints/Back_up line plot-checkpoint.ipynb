{
 "cells": [
  {
   "cell_type": "code",
   "execution_count": null,
   "id": "8f3dff09",
   "metadata": {},
   "outputs": [],
   "source": [
    "import statistics\n",
    "\n",
    "runs = 3\n",
    "NGEN = 10\n",
    "averages = []\n",
    "standard_devs = []\n",
    "standard_dev_up = []\n",
    "standard_dev_min = []\n",
    "maxima = []\n",
    "y = 0\n",
    "for i in range(NGEN):\n",
    "    averages_of_generation = []\n",
    "    maxima_of_generation = []\n",
    "    x = y\n",
    "    \n",
    "    for j in range(runs):\n",
    "        averages_of_generation.append(logbook[x]['avg'][0])\n",
    "        maxima_of_generation.append(logbook[x]['max'][0])\n",
    "\n",
    "        print(logbook[x]['avg'][0])\n",
    "        x += 10\n",
    "    averages.append(sum(averages_of_generation)/len(averages_of_generation))\n",
    "    maxima.append(sum(maxima_of_generation)/len(maxima_of_generation))    \n",
    "    standard_devs.append((statistics.stdev(averages_of_generation)))\n",
    "    standard_dev_up.append(averages[-1]+standard_devs[-1])\n",
    "    standard_dev_min.append(averages[-1]-standard_devs[-1])\n",
    "\n",
    "    y+=1\n",
    "print(averages)\n",
    "print(maxima)\n",
    "print(standard_devs)\n",
    "\n",
    "gens = []\n",
    "for i in range(NGEN):\n",
    "    gens.append(i+1)\n",
    "# print(logbook[30])\n",
    "\n",
    "print(logbook[0]['avg'][0])\n",
    "\n",
    "print(logbook)\n",
    "\n",
    "print(logbook[0])\n",
    "\n",
    "import matplotlib.pyplot as plt\n",
    "\n",
    "f_5, axes_5 = plt.subplots()\n",
    "# CB_lab_5 = r'Mean PR-curve CatBoost (AUC=%.2f  $\\pm$ %0.2f)' % (CB_mean_auc_pr_5, CB_std_auc_pr_means_5)\n",
    "CB_lab_5 = 'Mean '\n",
    "\n",
    "# axes_5.step(average, CB_mean_precision_5, label=CB_lab_5, lw=2, color='m')\n",
    "axes_5.step(gens, averages, label=CB_lab_5, lw=2, color='m')\n",
    "# CB_tprs_upper_30 = [x+ for x in my_list]\n",
    "\n",
    "# CB_tprs_upper_30 = np.minimum(CB_mean_tpr_30 + CB_std_tpr_30, 1)\n",
    "# CB_tprs_lower_30 = np.maximum(CB_mean_tpr_30 - CB_std_tpr_30, 0)\n",
    "axes_5.fill_between(gens, standard_dev_min, standard_dev_up, color='r', alpha=.2,\n",
    "                label=r'$\\pm$ 1 std. dev. CatBoost')"
   ]
  },
  {
   "cell_type": "code",
   "execution_count": 9,
   "id": "64682566",
   "metadata": {},
   "outputs": [
    {
     "data": {
      "text/plain": [
       "<matplotlib.collections.PolyCollection at 0x20093fd4970>"
      ]
     },
     "execution_count": 9,
     "metadata": {},
     "output_type": "execute_result"
    },
    {
     "data": {
      "image/png": "[encoded data removed]",
      "text/plain": [
       "<Figure size 432x288 with 1 Axes>"
      ]
     },
     "metadata": {
      "needs_background": "light"
     },
     "output_type": "display_data"
    }
   ],
   "source": [
    "import matplotlib.pyplot as plt\n",
    "\n",
    "f_5, axes_5 = plt.subplots()\n",
    "# CB_lab_5 = r'Mean PR-curve CatBoost (AUC=%.2f  $\\pm$ %0.2f)' % (CB_mean_auc_pr_5, CB_std_auc_pr_means_5)\n",
    "CB_lab_5 = 'Mean '\n",
    "\n",
    "# axes_5.step(average, CB_mean_precision_5, label=CB_lab_5, lw=2, color='m')\n",
    "axes_5.step(gens, averages, label=CB_lab_5, lw=2, color='m')\n",
    "# CB_tprs_upper_30 = [x+ for x in my_list]\n",
    "\n",
    "# CB_tprs_upper_30 = np.minimum(CB_mean_tpr_30 + CB_std_tpr_30, 1)\n",
    "# CB_tprs_lower_30 = np.maximum(CB_mean_tpr_30 - CB_std_tpr_30, 0)\n",
    "axes_5.fill_between(gens, standard_dev_min, standard_dev_up, color='r', alpha=.2,\n",
    "                label=r'$\\pm$ 1 std. dev. CatBoost')"
   ]
  },
  {
   "cell_type": "code",
   "execution_count": 10,
   "id": "0385c1c4",
   "metadata": {},
   "outputs": [
    {
     "data": {
      "text/plain": [
       "<matplotlib.collections.PolyCollection at 0x2009406f1c0>"
      ]
     },
     "execution_count": 10,
     "metadata": {},
     "output_type": "execute_result"
    },
    {
     "data": {
      "image/png": "[encoded data removed]",
      "text/plain": [
       "<Figure size 432x288 with 1 Axes>"
      ]
     },
     "metadata": {
      "needs_background": "light"
     },
     "output_type": "display_data"
    }
   ],
   "source": [
    "f_5, axes_5 = plt.subplots()\n",
    "# CB_lab_5 = r'Mean PR-curve CatBoost (AUC=%.2f  $\\pm$ %0.2f)' % (CB_mean_auc_pr_5, CB_std_auc_pr_means_5)\n",
    "CB_lab_5 = 'Mean '\n",
    "\n",
    "# axes_5.step(average, CB_mean_precision_5, label=CB_lab_5, lw=2, color='m')\n",
    "axes_5.step(gens, maxima, label=CB_lab_5, lw=2, color='m')\n",
    "# CB_tprs_upper_30 = [x+ for x in my_list]\n",
    "\n",
    "# CB_tprs_upper_30 = np.minimum(CB_mean_tpr_30 + CB_std_tpr_30, 1)\n",
    "# CB_tprs_lower_30 = np.maximum(CB_mean_tpr_30 - CB_std_tpr_30, 0)\n",
    "axes_5.fill_between(gens, max_standard_dev_min, max_standard_dev_up, color='r', alpha=.2,\n",
    "                label=r'$\\pm$ 1 std. dev. CatBoost')"
   ]
  },
  {
   "cell_type": "code",
   "execution_count": null,
   "id": "c1a81418",
   "metadata": {},
   "outputs": [],
   "source": []
  }
 ],
 "metadata": {
  "kernelspec": {
   "display_name": "Python 3",
   "language": "python",
   "name": "python3"
  },
  "language_info": {
   "codemirror_mode": {
    "name": "ipython",
    "version": 3
   },
   "file_extension": ".py",
   "mimetype": "text/x-python",
   "name": "python",
   "nbconvert_exporter": "python",
   "pygments_lexer": "ipython3",
   "version": "3.8.5"
  }
 },
 "nbformat": 4,
 "nbformat_minor": 5
}
